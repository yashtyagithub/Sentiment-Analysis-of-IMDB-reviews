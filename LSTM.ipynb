{
  "nbformat": 4,
  "nbformat_minor": 0,
  "metadata": {
    "colab": {
      "name": "LSTM_model.ipynb",
      "provenance": []
    },
    "kernelspec": {
      "name": "python3",
      "display_name": "Python 3"
    },
    "language_info": {
      "name": "python"
    },
    "accelerator": "GPU"
  },
  "cells": [
    {
      "cell_type": "code",
      "metadata": {
        "colab": {
          "base_uri": "https://localhost:8080/"
        },
        "id": "FV9JabORY86M",
        "outputId": "2504d56d-cb67-440d-8ee8-de59422c23aa"
      },
      "source": [
        "import warnings\n",
        "warnings.filterwarnings('ignore')\n",
        "import tensorflow as tf\n",
        "from tensorflow import keras\n",
        "from tensorflow.keras.preprocessing.text import Tokenizer\n",
        "from tensorflow.keras.preprocessing.sequence import pad_sequences\n",
        "from tensorflow.keras.layers import Dense,LSTM,Dropout,Embedding\n",
        "from tensorflow.keras.preprocessing import sequence\n",
        "from tensorflow.keras.models import load_model\n",
        "from tensorflow.keras.utils import plot_model\n",
        "from tensorflow.keras.callbacks import ModelCheckpoint, EarlyStopping\n",
        "import nltk\n",
        "nltk.download('stopwords')\n",
        "from nltk.corpus import stopwords\n",
        "import re\n",
        "import numpy as np\n",
        "import pandas as pd\n",
        "import matplotlib.pyplot as plt\n",
        "import seaborn as sns\n",
        "from nltk.corpus import stopwords\n",
        "from sklearn.model_selection import train_test_split\n",
        "from sklearn.metrics import confusion_matrix,accuracy_score"
      ],
      "execution_count": null,
      "outputs": [
        {
          "output_type": "stream",
          "text": [
            "[nltk_data] Downloading package stopwords to /root/nltk_data...\n",
            "[nltk_data]   Package stopwords is already up-to-date!\n"
          ],
          "name": "stdout"
        }
      ]
    },
    {
      "cell_type": "code",
      "metadata": {
        "id": "jfNFVlxg0W9y"
      },
      "source": [
        "stop_words=stopwords.words('english')"
      ],
      "execution_count": null,
      "outputs": []
    },
    {
      "cell_type": "code",
      "metadata": {
        "id": "krxbJLze8ZJa"
      },
      "source": [
        "imdb_data=pd.read_csv('/content/drive/MyDrive/IMDB Dataset.csv')"
      ],
      "execution_count": null,
      "outputs": []
    },
    {
      "cell_type": "code",
      "metadata": {
        "colab": {
          "base_uri": "https://localhost:8080/"
        },
        "id": "oSCCEssbkanz",
        "outputId": "5fc4bab4-5795-4582-82a3-6146d679e534"
      },
      "source": [
        "def review_preprocessing():\n",
        "    \n",
        "    X = imdb_data['review']  \n",
        "    X = X.replace({'<.*?>': ''}, regex = True )  \n",
        "    X = X.replace({'[^A-Za-z]': ' '}, regex = True) \n",
        "    X = X.replace({'\\s+':' '},regex=True)   \n",
        "    X = X.apply(lambda review: [word for word in review.split() if word not in stop_words])  \n",
        "    X = X.apply(lambda review: [word.lower() for word in review])  \n",
        "    return X\n",
        "\n",
        "X= review_preprocessing()\n",
        "X"
      ],
      "execution_count": null,
      "outputs": [
        {
          "output_type": "execute_result",
          "data": {
            "text/plain": [
              "0        [one, reviewers, mentioned, watching, oz, epis...\n",
              "1        [a, wonderful, little, production, the, filmin...\n",
              "2        [i, thought, wonderful, way, spend, time, hot,...\n",
              "3        [basically, family, little, boy, jake, thinks,...\n",
              "4        [petter, mattei, love, time, money, visually, ...\n",
              "                               ...                        \n",
              "49995    [i, thought, movie, right, good, job, it, crea...\n",
              "49996    [bad, plot, bad, dialogue, bad, acting, idioti...\n",
              "49997    [i, catholic, taught, parochial, elementary, s...\n",
              "49998    [i, going, disagree, previous, comment, side, ...\n",
              "49999    [no, one, expects, star, trek, movies, high, a...\n",
              "Name: review, Length: 50000, dtype: object"
            ]
          },
          "metadata": {
            "tags": []
          },
          "execution_count": 4
        }
      ]
    },
    {
      "cell_type": "code",
      "metadata": {
        "id": "N4srMQOQ6ger"
      },
      "source": [
        "y = imdb_data['sentiment']\n",
        "y = y.replace('positive', 1)\n",
        "y = y.replace('negative', 0)"
      ],
      "execution_count": null,
      "outputs": []
    },
    {
      "cell_type": "code",
      "metadata": {
        "colab": {
          "base_uri": "https://localhost:8080/"
        },
        "id": "c_99Hlyp9FCb",
        "outputId": "692d8dc0-0404-49f6-cdfa-43fffdd66508"
      },
      "source": [
        "print('Maximum review length',len(max((X),key=len)))         \n",
        "print('Minimum review length',len(min((X),key=len)))\n",
        "review_length=[]\n",
        "for i in X:\n",
        "    review_length.append(len(i))\n",
        "print('Average length of review',sum(review_length)/len(X))"
      ],
      "execution_count": null,
      "outputs": [
        {
          "output_type": "stream",
          "text": [
            "Maximum review length 1481\n",
            "Minimum review length 4\n",
            "Average length of review 129.72056\n"
          ],
          "name": "stdout"
        }
      ]
    },
    {
      "cell_type": "code",
      "metadata": {
        "colab": {
          "base_uri": "https://localhost:8080/",
          "height": 480
        },
        "id": "XwTdigmZ89K_",
        "outputId": "4642b969-96fc-4bea-f019-1b63d03f6504"
      },
      "source": [
        "review_length=np.array(review_length)\n",
        "df=pd.DataFrame(review_length)\n",
        "sns.set_style(\"whitegrid\")\n",
        "plt.figure(figsize=(6,8))\n",
        "plt.boxplot(df[0])\n",
        "plt.xlabel('reviews')\n",
        "plt.ylabel('length of reviews')\n",
        "plt.tick_params(axis='x', which='both', bottom=False, top=False, labelbottom=False)"
      ],
      "execution_count": null,
      "outputs": [
        {
          "output_type": "display_data",
          "data": {
            "image/png": "[encoded data removed]",
            "text/plain": [
              "<Figure size 432x576 with 1 Axes>"
            ]
          },
          "metadata": {
            "tags": []
          }
        }
      ]
    },
    {
      "cell_type": "code",
      "metadata": {
        "colab": {
          "base_uri": "https://localhost:8080/",
          "height": 418
        },
        "id": "t7McxToX9n6G",
        "outputId": "d7c9d1b7-cdd1-4e1b-84c4-a2ab78c30782"
      },
      "source": [
        "pd.Series(review_length).hist()\n",
        "plt.show()\n",
        "pd.Series(review_length).describe()"
      ],
      "execution_count": null,
      "outputs": [
        {
          "output_type": "display_data",
          "data": {
            "image/png": "[encoded data removed]",
            "text/plain": [
              "<Figure size 432x288 with 1 Axes>"
            ]
          },
          "metadata": {
            "tags": []
          }
        },
        {
          "output_type": "execute_result",
          "data": {
            "text/plain": [
              "count    50000.000000\n",
              "mean       129.720560\n",
              "std         96.151423\n",
              "min          4.000000\n",
              "25%         71.000000\n",
              "50%         97.000000\n",
              "75%        158.000000\n",
              "max       1481.000000\n",
              "dtype: float64"
            ]
          },
          "metadata": {
            "tags": []
          },
          "execution_count": 17
        }
      ]
    },
    {
      "cell_type": "code",
      "metadata": {
        "id": "17A74Jirb9PP"
      },
      "source": [
        "X_train, X_test, y_train, y_test = train_test_split(X, y, test_size=0.2)"
      ],
      "execution_count": null,
      "outputs": []
    },
    {
      "cell_type": "code",
      "metadata": {
        "colab": {
          "base_uri": "https://localhost:8080/"
        },
        "id": "FyWsxjsq8ZNW",
        "outputId": "09c8cbc1-417f-4535-adef-a0e8662c3327"
      },
      "source": [
        "print(X_train.shape)\n",
        "print(y_train.shape)\n",
        "print(X_test.shape)\n",
        "print(y_test.shape)"
      ],
      "execution_count": null,
      "outputs": [
        {
          "output_type": "stream",
          "text": [
            "(40000,)\n",
            "(40000,)\n",
            "(10000,)\n",
            "(10000,)\n"
          ],
          "name": "stdout"
        }
      ]
    },
    {
      "cell_type": "code",
      "metadata": {
        "id": "qZ6cjMUSt6Gz"
      },
      "source": [
        "token = Tokenizer(lower=False)    \n",
        "token.fit_on_texts(X)\n",
        "X_train = token.texts_to_sequences(X_train)\n",
        "X_test = token.texts_to_sequences(X_test)\n",
        "max_length=130\n",
        "X_train = pad_sequences(X_train, maxlen=max_length, padding='post',truncating='post')\n",
        "X_test = pad_sequences(X_test, maxlen=max_length, padding='post',truncating='post')\n",
        "\n",
        "total_words = len(token.word_index) + 1   # add 1 because of 0 padding\n"
      ],
      "execution_count": null,
      "outputs": []
    },
    {
      "cell_type": "code",
      "metadata": {
        "colab": {
          "base_uri": "https://localhost:8080/"
        },
        "id": "RzCO1kYczp-d",
        "outputId": "a2ac2dae-6a46-45f4-ae36-f2f1949a5449"
      },
      "source": [
        "total_words"
      ],
      "execution_count": null,
      "outputs": [
        {
          "output_type": "execute_result",
          "data": {
            "text/plain": [
              "101398"
            ]
          },
          "metadata": {
            "tags": []
          },
          "execution_count": 68
        }
      ]
    },
    {
      "cell_type": "code",
      "metadata": {
        "id": "uCwMzHwKgM2Z"
      },
      "source": [
        "def create_model():\n",
        "    model=None\n",
        "    model=tf.keras.Sequential()\n",
        "    model.add(Embedding(total_words,32,input_length=max_length))\n",
        "    model.add(Dropout(0.2))\n",
        "    model.add(LSTM(100, return_sequences=True))\n",
        "    model.add(Dropout(0.2))\n",
        "    model.add(LSTM(20))\n",
        "    model.add(Dense(1,activation='sigmoid'))\n",
        "    model.compile(loss='binary_crossentropy',optimizer='adam',metrics=['accuracy'])\n",
        "    return model"
      ],
      "execution_count": null,
      "outputs": []
    },
    {
      "cell_type": "code",
      "metadata": {
        "colab": {
          "base_uri": "https://localhost:8080/"
        },
        "id": "hbypYAyn7_vu",
        "outputId": "5ba2421a-1dd6-44bc-df3c-612683ffb831"
      },
      "source": [
        "model=create_model()\n",
        "model.summary()"
      ],
      "execution_count": null,
      "outputs": [
        {
          "output_type": "stream",
          "text": [
            "Model: \"sequential\"\n",
            "_________________________________________________________________\n",
            "Layer (type)                 Output Shape              Param #   \n",
            "=================================================================\n",
            "embedding (Embedding)        (None, 130, 32)           3244736   \n",
            "_________________________________________________________________\n",
            "dropout (Dropout)            (None, 130, 32)           0         \n",
            "_________________________________________________________________\n",
            "lstm (LSTM)                  (None, 130, 100)          53200     \n",
            "_________________________________________________________________\n",
            "dropout_1 (Dropout)          (None, 130, 100)          0         \n",
            "_________________________________________________________________\n",
            "lstm_1 (LSTM)                (None, 20)                9680      \n",
            "_________________________________________________________________\n",
            "dense (Dense)                (None, 1)                 21        \n",
            "=================================================================\n",
            "Total params: 3,307,637\n",
            "Trainable params: 3,307,637\n",
            "Non-trainable params: 0\n",
            "_________________________________________________________________\n"
          ],
          "name": "stdout"
        }
      ]
    },
    {
      "cell_type": "code",
      "metadata": {
        "colab": {
          "base_uri": "https://localhost:8080/",
          "height": 754
        },
        "id": "qmolIlOyhTda",
        "outputId": "c580ddf9-2d39-4c1a-bab8-1bd9c3db86ea"
      },
      "source": [
        "plot_model(model,'model.png',show_shapes=True)"
      ],
      "execution_count": null,
      "outputs": [
        {
          "output_type": "execute_result",
          "data": {
            "image/png": "[encoded data removed]",
            "text/plain": [
              "<IPython.core.display.Image object>"
            ]
          },
          "metadata": {
            "tags": []
          },
          "execution_count": 23
        }
      ]
    },
    {
      "cell_type": "code",
      "metadata": {
        "id": "pmBjjpSQ8aZk"
      },
      "source": [
        "filepath = \"/content/drive/MyDrive/lstm_models/weights-improvement-{epoch:02d}-{val_loss:.2f}.hdf5\"\n",
        "\n",
        "checkpoint = tf.keras.callbacks.ModelCheckpoint(filepath, monitor='val_accuracy',              \n",
        "                                                 save_best_only=True,\n",
        "                                                 mode='max',\n",
        "                                                 verbose=1)\n",
        "early_stop=EarlyStopping(monitor='val_accuracy',patience=5,verbose=1)                          \n",
        "                                                 \n",
        "callback_list=[checkpoint,early_stop]"
      ],
      "execution_count": null,
      "outputs": []
    },
    {
      "cell_type": "code",
      "metadata": {
        "id": "rg_yimIliy2p",
        "colab": {
          "base_uri": "https://localhost:8080/"
        },
        "outputId": "6ec664b6-a48c-4ec0-c4f3-5516236a2063"
      },
      "source": [
        "history=model.fit(X_train,y_train,validation_data=(X_test,y_test),epochs=25,batch_size=64,callbacks=callback_list)"
      ],
      "execution_count": null,
      "outputs": [
        {
          "output_type": "stream",
          "text": [
            "Epoch 1/25\n",
            "625/625 [==============================] - 147s 230ms/step - loss: 0.6918 - accuracy: 0.5067 - val_loss: 0.6912 - val_accuracy: 0.5087\n",
            "\n",
            "Epoch 00001: val_accuracy improved from -inf to 0.50870, saving model to /content/drive/MyDrive/lstm_models/weights-improvement-01-0.69.hdf5\n",
            "Epoch 2/25\n",
            "625/625 [==============================] - 141s 226ms/step - loss: 0.6932 - accuracy: 0.5123 - val_loss: 0.6932 - val_accuracy: 0.4987\n",
            "\n",
            "Epoch 00002: val_accuracy did not improve from 0.50870\n",
            "Epoch 3/25\n",
            "625/625 [==============================] - 141s 226ms/step - loss: 0.6503 - accuracy: 0.6087 - val_loss: 0.5163 - val_accuracy: 0.7863\n",
            "\n",
            "Epoch 00003: val_accuracy improved from 0.50870 to 0.78630, saving model to /content/drive/MyDrive/lstm_models/weights-improvement-03-0.52.hdf5\n",
            "Epoch 4/25\n",
            "625/625 [==============================] - 142s 227ms/step - loss: 0.3943 - accuracy: 0.8427 - val_loss: 0.4066 - val_accuracy: 0.8407\n",
            "\n",
            "Epoch 00004: val_accuracy improved from 0.78630 to 0.84070, saving model to /content/drive/MyDrive/lstm_models/weights-improvement-04-0.41.hdf5\n",
            "Epoch 5/25\n",
            "625/625 [==============================] - 141s 226ms/step - loss: 0.2613 - accuracy: 0.9086 - val_loss: 0.3712 - val_accuracy: 0.8601\n",
            "\n",
            "Epoch 00005: val_accuracy improved from 0.84070 to 0.86010, saving model to /content/drive/MyDrive/lstm_models/weights-improvement-05-0.37.hdf5\n",
            "Epoch 6/25\n",
            "625/625 [==============================] - 143s 228ms/step - loss: 0.1908 - accuracy: 0.9359 - val_loss: 0.3241 - val_accuracy: 0.8723\n",
            "\n",
            "Epoch 00006: val_accuracy improved from 0.86010 to 0.87230, saving model to /content/drive/MyDrive/lstm_models/weights-improvement-06-0.32.hdf5\n",
            "Epoch 7/25\n",
            "625/625 [==============================] - 141s 225ms/step - loss: 0.1424 - accuracy: 0.9568 - val_loss: 0.3634 - val_accuracy: 0.8730\n",
            "\n",
            "Epoch 00007: val_accuracy improved from 0.87230 to 0.87300, saving model to /content/drive/MyDrive/lstm_models/weights-improvement-07-0.36.hdf5\n",
            "Epoch 8/25\n",
            "625/625 [==============================] - 141s 225ms/step - loss: 0.1113 - accuracy: 0.9682 - val_loss: 0.3968 - val_accuracy: 0.8716\n",
            "\n",
            "Epoch 00008: val_accuracy did not improve from 0.87300\n",
            "Epoch 9/25\n",
            "625/625 [==============================] - 141s 225ms/step - loss: 0.0923 - accuracy: 0.9742 - val_loss: 0.4473 - val_accuracy: 0.8628\n",
            "\n",
            "Epoch 00009: val_accuracy did not improve from 0.87300\n",
            "Epoch 10/25\n",
            "625/625 [==============================] - 142s 227ms/step - loss: 0.0749 - accuracy: 0.9798 - val_loss: 0.4641 - val_accuracy: 0.8660\n",
            "\n",
            "Epoch 00010: val_accuracy did not improve from 0.87300\n",
            "Epoch 11/25\n",
            "625/625 [==============================] - 140s 224ms/step - loss: 0.0607 - accuracy: 0.9851 - val_loss: 0.4662 - val_accuracy: 0.8643\n",
            "\n",
            "Epoch 00011: val_accuracy did not improve from 0.87300\n",
            "Epoch 12/25\n",
            "625/625 [==============================] - 140s 224ms/step - loss: 0.0565 - accuracy: 0.9862 - val_loss: 0.5218 - val_accuracy: 0.8610\n",
            "\n",
            "Epoch 00012: val_accuracy did not improve from 0.87300\n",
            "Epoch 00012: early stopping\n"
          ],
          "name": "stdout"
        }
      ]
    },
    {
      "cell_type": "code",
      "metadata": {
        "colab": {
          "base_uri": "https://localhost:8080/",
          "height": 406
        },
        "id": "tuOGi6Xry3Xx",
        "outputId": "59e1ac7e-a6ec-4f11-93ca-a44e469bcca7"
      },
      "source": [
        "fig, (axis1, axis2) = plt.subplots(nrows=1, ncols=2, figsize=(16,6))\n",
        "\n",
        "# summarize history for accuracy\n",
        "axis1.plot(history.history['accuracy'], label='Train', linewidth=2)\n",
        "axis1.plot(history.history['val_accuracy'], label='Validation', linewidth=2)\n",
        "axis1.set_title('Model accuracy', fontsize=15)\n",
        "axis1.set_ylabel('accuracy')\n",
        "axis1.set_xlabel('epoch')\n",
        "axis1.legend(loc='upper left')\n",
        "\n",
        "# summarize history for loss\n",
        "axis2.plot(history.history['loss'], label='Train', linewidth=2)\n",
        "axis2.plot(history.history['val_loss'], label='Validation', linewidth=2)\n",
        "axis2.set_title('Model loss', fontsize=15)\n",
        "axis2.set_ylabel('loss')\n",
        "axis2.set_xlabel('epoch')\n",
        "axis2.legend(loc='upper right')\n",
        "plt.show()"
      ],
      "execution_count": null,
      "outputs": [
        {
          "output_type": "display_data",
          "data": {
            "image/png": "[encoded data removed]",
            "text/plain": [
              "<Figure size 1152x432 with 2 Axes>"
            ]
          },
          "metadata": {
            "tags": []
          }
        }
      ]
    },
    {
      "cell_type": "code",
      "metadata": {
        "id": "hZvc4KOmOQrc"
      },
      "source": [
        "model=load_model('/content/drive/MyDrive/lstm_models/weights-improvement-07-0.36.hdf5')"
      ],
      "execution_count": null,
      "outputs": []
    },
    {
      "cell_type": "code",
      "metadata": {
        "id": "IF_Flg-qhxy_"
      },
      "source": [
        "\n",
        "y_test_pred = model.predict_classes(X_test)"
      ],
      "execution_count": null,
      "outputs": []
    },
    {
      "cell_type": "code",
      "metadata": {
        "colab": {
          "base_uri": "https://localhost:8080/"
        },
        "id": "eS1h22KliIUc",
        "outputId": "6394a692-f840-41cf-fc86-903f071e970a"
      },
      "source": [
        "accuracy_score(y_test,y_test_pred)"
      ],
      "execution_count": null,
      "outputs": [
        {
          "output_type": "execute_result",
          "data": {
            "text/plain": [
              "0.873"
            ]
          },
          "metadata": {
            "tags": []
          },
          "execution_count": 30
        }
      ]
    },
    {
      "cell_type": "code",
      "metadata": {
        "id": "RHV31mX5Q8j4"
      },
      "source": [
        "def confusion_matrix_plot(y_test,y_test_pred):\n",
        "    con_matrix=confusion_matrix(y_test,y_test_pred)\n",
        "    ax= plt.subplot()\n",
        "    sns.heatmap(con_matrix, annot=True, fmt='g', ax=ax)  \n",
        "    ax.set_title('Confusion Matrix')\n",
        "    ax.set_xlabel('Predicted labels')\n",
        "    ax.set_ylabel('True labels')\n",
        "    ax.xaxis.set_ticklabels(['positive', 'negative'])\n",
        "    ax.yaxis.set_ticklabels(['positive', 'negative'])"
      ],
      "execution_count": null,
      "outputs": []
    },
    {
      "cell_type": "code",
      "metadata": {
        "colab": {
          "base_uri": "https://localhost:8080/",
          "height": 295
        },
        "id": "lY3a2PkMbdhG",
        "outputId": "1c001ded-8678-4548-97b7-099dfbbf23c1"
      },
      "source": [
        "confusion_matrix_plot(y_test,y_test_pred)"
      ],
      "execution_count": null,
      "outputs": [
        {
          "output_type": "display_data",
          "data": {
            "image/png": "[encoded data removed]",
            "text/plain": [
              "<Figure size 432x288 with 2 Axes>"
            ]
          },
          "metadata": {
            "tags": []
          }
        }
      ]
    },
    {
      "cell_type": "markdown",
      "metadata": {
        "id": "xQYHkTwlLnxJ"
      },
      "source": [
        "# **WORD2VEC Embedding**"
      ]
    },
    {
      "cell_type": "code",
      "metadata": {
        "id": "WbKqBpDaKN6w",
        "colab": {
          "base_uri": "https://localhost:8080/",
          "height": 199
        },
        "outputId": "22f39794-1302-4b17-cee3-03d0a6685646"
      },
      "source": [
        "import gensim\n",
        "from nltk.tokenize import word_tokenize\n",
        "from tensorflow.keras.initializers import Constant\n",
        "nltk.download('punkt')"
      ],
      "execution_count": 1,
      "outputs": [
        {
          "output_type": "error",
          "ename": "NameError",
          "evalue": "ignored",
          "traceback": [
            "\u001b[0;31m---------------------------------------------------------------------------\u001b[0m",
            "\u001b[0;31mNameError\u001b[0m                                 Traceback (most recent call last)",
            "\u001b[0;32m<ipython-input-1-c5d21d070e07>\u001b[0m in \u001b[0;36m<module>\u001b[0;34m()\u001b[0m\n\u001b[1;32m      2\u001b[0m \u001b[0;32mfrom\u001b[0m \u001b[0mnltk\u001b[0m\u001b[0;34m.\u001b[0m\u001b[0mtokenize\u001b[0m \u001b[0;32mimport\u001b[0m \u001b[0mword_tokenize\u001b[0m\u001b[0;34m\u001b[0m\u001b[0;34m\u001b[0m\u001b[0m\n\u001b[1;32m      3\u001b[0m \u001b[0;32mfrom\u001b[0m \u001b[0mtensorflow\u001b[0m\u001b[0;34m.\u001b[0m\u001b[0mkeras\u001b[0m\u001b[0;34m.\u001b[0m\u001b[0minitializers\u001b[0m \u001b[0;32mimport\u001b[0m \u001b[0mConstant\u001b[0m\u001b[0;34m\u001b[0m\u001b[0;34m\u001b[0m\u001b[0m\n\u001b[0;32m----> 4\u001b[0;31m \u001b[0mnltk\u001b[0m\u001b[0;34m.\u001b[0m\u001b[0mdownload\u001b[0m\u001b[0;34m(\u001b[0m\u001b[0;34m'punkt'\u001b[0m\u001b[0;34m)\u001b[0m\u001b[0;34m\u001b[0m\u001b[0;34m\u001b[0m\u001b[0m\n\u001b[0m",
            "\u001b[0;31mNameError\u001b[0m: name 'nltk' is not defined"
          ]
        }
      ]
    },
    {
      "cell_type": "code",
      "metadata": {
        "id": "aLJlF_glcFNW"
      },
      "source": [
        "reviews=imdb_data['review'].values.tolist()"
      ],
      "execution_count": null,
      "outputs": []
    },
    {
      "cell_type": "code",
      "metadata": {
        "id": "cHDyV6h7m_Pr"
      },
      "source": [
        "len(reviews)"
      ],
      "execution_count": null,
      "outputs": []
    },
    {
      "cell_type": "code",
      "metadata": {
        "id": "du9E7eN0nA68"
      },
      "source": [
        "lst_review=[]\n",
        "for review in reviews:\n",
        "    review=review.lower()\n",
        "    review=re.sub('<.*?>',\"\",review)\n",
        "    review=re.sub('[^A-Za-z]',\" \",review)\n",
        "    review=re.sub('\\s+',' ',review)\n",
        "    review=[word for word in review.split(' ') if word not in stop_words]\n",
        "    lst_review.append(review)\n",
        "\n",
        "\n"
      ],
      "execution_count": null,
      "outputs": []
    },
    {
      "cell_type": "code",
      "metadata": {
        "id": "DHst46hztDXw"
      },
      "source": [
        "w2vmodel=None\n",
        "w2vmodel=gensim.models.Word2Vec(lst_review, size=300, window=5, min_count=3)"
      ],
      "execution_count": null,
      "outputs": []
    },
    {
      "cell_type": "code",
      "metadata": {
        "id": "dFmottHEv5zO"
      },
      "source": [
        "words=list(w2vmodel.wv.vocab)\n",
        "len(words)"
      ],
      "execution_count": null,
      "outputs": []
    },
    {
      "cell_type": "code",
      "metadata": {
        "id": "8HwiEiSmKHSm"
      },
      "source": [
        "w2vmodel.train(lst_review,epochs=10,total_examples=len(lst_review))"
      ],
      "execution_count": null,
      "outputs": []
    },
    {
      "cell_type": "code",
      "metadata": {
        "id": "ldJj28l7KS4r"
      },
      "source": [
        "vocab=w2vmodel.wv.vocab\n",
        "vocab=list(vocab.keys())"
      ],
      "execution_count": null,
      "outputs": []
    },
    {
      "cell_type": "code",
      "metadata": {
        "id": "i02Uswd5KTAr"
      },
      "source": [
        "word_vec_dict={}\n",
        "for word in vocab:\n",
        "  word_vec_dict[word]=w2vmodel.wv.get_vector(word)\n",
        "print(\"The no of key-value pairs : \",len(word_vec_dict))"
      ],
      "execution_count": null,
      "outputs": []
    },
    {
      "cell_type": "code",
      "metadata": {
        "id": "mJ5spqUv1bdN"
      },
      "source": [
        "token = Tokenizer(lower=False)    \n",
        "token.fit_on_texts(X)\n",
        "vocab_size = len(token.word_index) + 1\n",
        "encoded = token.texts_to_sequences(X)\n",
        "padded=pad_sequences(encoded, maxlen=130, padding='post', truncating='post')"
      ],
      "execution_count": null,
      "outputs": []
    },
    {
      "cell_type": "code",
      "metadata": {
        "id": "6zd-JrJe3GSi"
      },
      "source": [
        "print(vocab_size)\n",
        "print(padded.shape)"
      ],
      "execution_count": null,
      "outputs": []
    },
    {
      "cell_type": "code",
      "metadata": {
        "id": "lVUPF6K_Nyl2"
      },
      "source": [
        "embed_matrix=np.zeros(shape=(vocab_size,300))\n",
        "for word,i in token.word_index.items():\n",
        "  embed_vector=word_vec_dict.get(word)\n",
        "  if embed_vector is not None:  \n",
        "    embed_matrix[i]=embed_vector"
      ],
      "execution_count": null,
      "outputs": []
    },
    {
      "cell_type": "code",
      "metadata": {
        "id": "xawb0TzGOTA0"
      },
      "source": [
        "X_train, X_test, y_train, y_test = train_test_split(padded, y, test_size=0.2)"
      ],
      "execution_count": null,
      "outputs": []
    },
    {
      "cell_type": "code",
      "metadata": {
        "id": "c4Rx4kYcSAXu"
      },
      "source": [
        "from tensorflow.keras.initializers import Constant"
      ],
      "execution_count": null,
      "outputs": []
    },
    {
      "cell_type": "code",
      "metadata": {
        "id": "Bp7KPMDhOuTu"
      },
      "source": [
        "def create_model():\n",
        "    model=None\n",
        "    model=tf.keras.Sequential()\n",
        "    model.add(Embedding(input_dim=vocab_size,output_dim=300,input_length=130,embeddings_initializer=Constant(embed_matrix)))\n",
        "    model.add(Dropout(0.2))\n",
        "    model.add(LSTM(100, return_sequences=True))\n",
        "    model.add(Dropout(0.2))\n",
        "    model.add(LSTM(20))\n",
        "    model.add(Dense(1,activation='sigmoid'))\n",
        "    model.compile(loss='binary_crossentropy',optimizer='adam',metrics=['accuracy'])\n",
        "    return model"
      ],
      "execution_count": null,
      "outputs": []
    },
    {
      "cell_type": "code",
      "metadata": {
        "id": "CEzHTcAvPaFz"
      },
      "source": [
        "model=create_model()\n",
        "model.summary()"
      ],
      "execution_count": null,
      "outputs": []
    },
    {
      "cell_type": "code",
      "metadata": {
        "id": "f0Ytx-YRPaFz"
      },
      "source": [
        "plot_model(model,'model.png',show_shapes=True)"
      ],
      "execution_count": null,
      "outputs": []
    },
    {
      "cell_type": "code",
      "metadata": {
        "id": "NQBQ0Wf0O8YX"
      },
      "source": [
        "filepath = \"/content/drive/MyDrive/lstmw2v_models/weights-improvement-{epoch:02d}-{val_loss:.2f}.hdf5\"\n",
        "\n",
        "checkpoint = tf.keras.callbacks.ModelCheckpoint(filepath, monitor='val_accuracy',             \n",
        "                                                 save_best_only=True,\n",
        "                                                 mode='max',\n",
        "                                                 verbose=1)\n",
        "early_stop=EarlyStopping(monitor='val_accuracy',patience=5,verbose=1)                          \n",
        "                                                 \n",
        "callback_list=[checkpoint,early_stop]"
      ],
      "execution_count": null,
      "outputs": []
    },
    {
      "cell_type": "code",
      "metadata": {
        "id": "MqpaPK-_O8Yc"
      },
      "source": [
        "history=model.fit(X_train,y_train,validation_data=(X_test,y_test),epochs=25,batch_size=64,callbacks=callback_list)"
      ],
      "execution_count": null,
      "outputs": []
    },
    {
      "cell_type": "code",
      "metadata": {
        "id": "AQkM8Td8O8Yd"
      },
      "source": [
        "fig, (axis1, axis2) = plt.subplots(nrows=1, ncols=2, figsize=(16,6))\n",
        "\n",
        "# summarize history for accuracy\n",
        "axis1.plot(history.history['accuracy'], label='Train', linewidth=2)\n",
        "axis1.plot(history.history['val_accuracy'], label='Validation', linewidth=2)\n",
        "axis1.set_title('Model accuracy', fontsize=15)\n",
        "axis1.set_ylabel('accuracy')\n",
        "axis1.set_xlabel('epoch')\n",
        "axis1.legend(loc='upper left')\n",
        "\n",
        "# summarize history for loss\n",
        "axis2.plot(history.history['loss'], label='Train', linewidth=2)\n",
        "axis2.plot(history.history['val_loss'], label='Validation', linewidth=2)\n",
        "axis2.set_title('Model loss', fontsize=15)\n",
        "axis2.set_ylabel('loss')\n",
        "axis2.set_xlabel('epoch')\n",
        "axis2.legend(loc='upper right')\n",
        "plt.show()"
      ],
      "execution_count": null,
      "outputs": []
    },
    {
      "cell_type": "code",
      "metadata": {
        "id": "guUm8ZOMX3rS"
      },
      "source": [
        "model=load_model('/content/drive/MyDrive/lstmw2v_models/weights-improvement-04-0.30.hdf5')"
      ],
      "execution_count": null,
      "outputs": []
    },
    {
      "cell_type": "code",
      "metadata": {
        "id": "a-jRrn2cJm1h"
      },
      "source": [
        "y_test_pred = model.predict_classes(X_test)"
      ],
      "execution_count": null,
      "outputs": []
    },
    {
      "cell_type": "code",
      "metadata": {
        "id": "axuMl53gJm1i"
      },
      "source": [
        "accuracy_score(y_test,y_test_pred)"
      ],
      "execution_count": null,
      "outputs": []
    },
    {
      "cell_type": "code",
      "metadata": {
        "id": "PeIxV2_nJm1i"
      },
      "source": [
        "confusion_matrix_plot(y_test,y_test_pred)"
      ],
      "execution_count": null,
      "outputs": []
    },
    {
      "cell_type": "code",
      "metadata": {
        "id": "r0GI2KyUKbHt"
      },
      "source": [
        ""
      ],
      "execution_count": null,
      "outputs": []
    }
  ]
}