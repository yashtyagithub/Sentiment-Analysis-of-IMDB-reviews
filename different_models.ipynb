{
  "nbformat": 4,
  "nbformat_minor": 0,
  "metadata": {
    "colab": {
      "name": "different_models.ipynb",
      "provenance": []
    },
    "kernelspec": {
      "name": "python3",
      "display_name": "Python 3"
    },
    "language_info": {
      "name": "python"
    }
  },
  "cells": [
    {
      "cell_type": "code",
      "metadata": {
        "colab": {
          "base_uri": "https://localhost:8080/"
        },
        "id": "QZ3n3NuV-t-i",
        "outputId": "0847441b-3860-436a-c290-fc7dfab48e9e"
      },
      "source": [
        "import warnings\n",
        "warnings.filterwarnings('ignore')\n",
        "import nltk\n",
        "nltk.download('stopwords')\n",
        "import re\n",
        "import numpy as np\n",
        "import pandas as pd\n",
        "from sklearn.feature_extraction.text import TfidfVectorizer, CountVectorizer\n",
        "import matplotlib.pyplot as plt\n",
        "import seaborn as sns\n",
        "from nltk.corpus import stopwords\n",
        "from nltk.stem.porter import PorterStemmer\n",
        "from sklearn.model_selection import train_test_split\n",
        "from sklearn.linear_model import LogisticRegression,SGDClassifier\n",
        "from nltk.tokenize import word_tokenize\n",
        "from sklearn.metrics import confusion_matrix, accuracy_score, f1_score"
      ],
      "execution_count": 1,
      "outputs": [
        {
          "output_type": "stream",
          "text": [
            "[nltk_data] Downloading package stopwords to /root/nltk_data...\n",
            "[nltk_data]   Package stopwords is already up-to-date!\n"
          ],
          "name": "stdout"
        }
      ]
    },
    {
      "cell_type": "code",
      "metadata": {
        "id": "uLuXR6S7ASIi"
      },
      "source": [
        "imdb_data=pd.read_csv('/content/drive/MyDrive/IMDB Dataset.csv')"
      ],
      "execution_count": 2,
      "outputs": []
    },
    {
      "cell_type": "code",
      "metadata": {
        "colab": {
          "base_uri": "https://localhost:8080/",
          "height": 359
        },
        "id": "S6ohQc1RR4gc",
        "outputId": "17eef96a-0e9f-4f94-b3e2-a189bd8fa71f"
      },
      "source": [
        "imdb_data.head(10)"
      ],
      "execution_count": 3,
      "outputs": [
        {
          "output_type": "execute_result",
          "data": {
            "text/html": [
              "<div>\n",
              "<style scoped>\n",
              "    .dataframe tbody tr th:only-of-type {\n",
              "        vertical-align: middle;\n",
              "    }\n",
              "\n",
              "    .dataframe tbody tr th {\n",
              "        vertical-align: top;\n",
              "    }\n",
              "\n",
              "    .dataframe thead th {\n",
              "        text-align: right;\n",
              "    }\n",
              "</style>\n",
              "<table border=\"1\" class=\"dataframe\">\n",
              "  <thead>\n",
              "    <tr style=\"text-align: right;\">\n",
              "      <th></th>\n",
              "      <th>review</th>\n",
              "      <th>sentiment</th>\n",
              "    </tr>\n",
              "  </thead>\n",
              "  <tbody>\n",
              "    <tr>\n",
              "      <th>0</th>\n",
              "      <td>One of the other reviewers has mentioned that ...</td>\n",
              "      <td>positive</td>\n",
              "    </tr>\n",
              "    <tr>\n",
              "      <th>1</th>\n",
              "      <td>A wonderful little production. &lt;br /&gt;&lt;br /&gt;The...</td>\n",
              "      <td>positive</td>\n",
              "    </tr>\n",
              "    <tr>\n",
              "      <th>2</th>\n",
              "      <td>I thought this was a wonderful way to spend ti...</td>\n",
              "      <td>positive</td>\n",
              "    </tr>\n",
              "    <tr>\n",
              "      <th>3</th>\n",
              "      <td>Basically there's a family where a little boy ...</td>\n",
              "      <td>negative</td>\n",
              "    </tr>\n",
              "    <tr>\n",
              "      <th>4</th>\n",
              "      <td>Petter Mattei's \"Love in the Time of Money\" is...</td>\n",
              "      <td>positive</td>\n",
              "    </tr>\n",
              "    <tr>\n",
              "      <th>5</th>\n",
              "      <td>Probably my all-time favorite movie, a story o...</td>\n",
              "      <td>positive</td>\n",
              "    </tr>\n",
              "    <tr>\n",
              "      <th>6</th>\n",
              "      <td>I sure would like to see a resurrection of a u...</td>\n",
              "      <td>positive</td>\n",
              "    </tr>\n",
              "    <tr>\n",
              "      <th>7</th>\n",
              "      <td>This show was an amazing, fresh &amp; innovative i...</td>\n",
              "      <td>negative</td>\n",
              "    </tr>\n",
              "    <tr>\n",
              "      <th>8</th>\n",
              "      <td>Encouraged by the positive comments about this...</td>\n",
              "      <td>negative</td>\n",
              "    </tr>\n",
              "    <tr>\n",
              "      <th>9</th>\n",
              "      <td>If you like original gut wrenching laughter yo...</td>\n",
              "      <td>positive</td>\n",
              "    </tr>\n",
              "  </tbody>\n",
              "</table>\n",
              "</div>"
            ],
            "text/plain": [
              "                                              review sentiment\n",
              "0  One of the other reviewers has mentioned that ...  positive\n",
              "1  A wonderful little production. <br /><br />The...  positive\n",
              "2  I thought this was a wonderful way to spend ti...  positive\n",
              "3  Basically there's a family where a little boy ...  negative\n",
              "4  Petter Mattei's \"Love in the Time of Money\" is...  positive\n",
              "5  Probably my all-time favorite movie, a story o...  positive\n",
              "6  I sure would like to see a resurrection of a u...  positive\n",
              "7  This show was an amazing, fresh & innovative i...  negative\n",
              "8  Encouraged by the positive comments about this...  negative\n",
              "9  If you like original gut wrenching laughter yo...  positive"
            ]
          },
          "metadata": {
            "tags": []
          },
          "execution_count": 3
        }
      ]
    },
    {
      "cell_type": "code",
      "metadata": {
        "colab": {
          "base_uri": "https://localhost:8080/",
          "height": 419
        },
        "id": "wK3D1bxdAeUj",
        "outputId": "537569b8-22bc-49ba-b726-bec0d2755801"
      },
      "source": [
        "def review_preprocessing():\n",
        "    imdb_data['review']=  imdb_data['review'].str.lower()\n",
        "    imdb_data['review'] = imdb_data['review'].replace({'\\s+':' '},regex=True)\n",
        "    imdb_data['review'] = imdb_data['review'].replace({'\\n':''}) \n",
        "    imdb_data['review'] = imdb_data['review'].replace({'<.*?>': ''}, regex = True)         \n",
        "    imdb_data['review'] = imdb_data['review'].replace({'[^A-Za-z]': ' '}, regex = True)\n",
        "    imdb_data['review'] = imdb_data['review'].replace({'\\s+[a-zA-Z]\\s+':' '},regex=True)     \n",
        "    return imdb_data\n",
        "\n",
        "imdb_data= review_preprocessing()\n",
        "imdb_data['sentiment'] = imdb_data['sentiment'].replace('positive', 1)\n",
        "imdb_data['sentiment'] = imdb_data['sentiment'].replace('negative', 0)\n",
        "imdb_data"
      ],
      "execution_count": 4,
      "outputs": [
        {
          "output_type": "execute_result",
          "data": {
            "text/html": [
              "<div>\n",
              "<style scoped>\n",
              "    .dataframe tbody tr th:only-of-type {\n",
              "        vertical-align: middle;\n",
              "    }\n",
              "\n",
              "    .dataframe tbody tr th {\n",
              "        vertical-align: top;\n",
              "    }\n",
              "\n",
              "    .dataframe thead th {\n",
              "        text-align: right;\n",
              "    }\n",
              "</style>\n",
              "<table border=\"1\" class=\"dataframe\">\n",
              "  <thead>\n",
              "    <tr style=\"text-align: right;\">\n",
              "      <th></th>\n",
              "      <th>review</th>\n",
              "      <th>sentiment</th>\n",
              "    </tr>\n",
              "  </thead>\n",
              "  <tbody>\n",
              "    <tr>\n",
              "      <th>0</th>\n",
              "      <td>one of the other reviewers has mentioned that ...</td>\n",
              "      <td>1</td>\n",
              "    </tr>\n",
              "    <tr>\n",
              "      <th>1</th>\n",
              "      <td>a wonderful little production  the filming tec...</td>\n",
              "      <td>1</td>\n",
              "    </tr>\n",
              "    <tr>\n",
              "      <th>2</th>\n",
              "      <td>i thought this was wonderful way to spend time...</td>\n",
              "      <td>1</td>\n",
              "    </tr>\n",
              "    <tr>\n",
              "      <th>3</th>\n",
              "      <td>basically there a family where little boy  jak...</td>\n",
              "      <td>0</td>\n",
              "    </tr>\n",
              "    <tr>\n",
              "      <th>4</th>\n",
              "      <td>petter mattei love in the time of money  is vi...</td>\n",
              "      <td>1</td>\n",
              "    </tr>\n",
              "    <tr>\n",
              "      <th>...</th>\n",
              "      <td>...</td>\n",
              "      <td>...</td>\n",
              "    </tr>\n",
              "    <tr>\n",
              "      <th>49995</th>\n",
              "      <td>i thought this movie did down right good job  ...</td>\n",
              "      <td>1</td>\n",
              "    </tr>\n",
              "    <tr>\n",
              "      <th>49996</th>\n",
              "      <td>bad plot  bad dialogue  bad acting  idiotic di...</td>\n",
              "      <td>0</td>\n",
              "    </tr>\n",
              "    <tr>\n",
              "      <th>49997</th>\n",
              "      <td>i am catholic taught in parochial elementary s...</td>\n",
              "      <td>0</td>\n",
              "    </tr>\n",
              "    <tr>\n",
              "      <th>49998</th>\n",
              "      <td>i going to have to disagree with the previous ...</td>\n",
              "      <td>0</td>\n",
              "    </tr>\n",
              "    <tr>\n",
              "      <th>49999</th>\n",
              "      <td>no one expects the star trek movies to be high...</td>\n",
              "      <td>0</td>\n",
              "    </tr>\n",
              "  </tbody>\n",
              "</table>\n",
              "<p>50000 rows × 2 columns</p>\n",
              "</div>"
            ],
            "text/plain": [
              "                                                  review  sentiment\n",
              "0      one of the other reviewers has mentioned that ...          1\n",
              "1      a wonderful little production  the filming tec...          1\n",
              "2      i thought this was wonderful way to spend time...          1\n",
              "3      basically there a family where little boy  jak...          0\n",
              "4      petter mattei love in the time of money  is vi...          1\n",
              "...                                                  ...        ...\n",
              "49995  i thought this movie did down right good job  ...          1\n",
              "49996  bad plot  bad dialogue  bad acting  idiotic di...          0\n",
              "49997  i am catholic taught in parochial elementary s...          0\n",
              "49998  i going to have to disagree with the previous ...          0\n",
              "49999  no one expects the star trek movies to be high...          0\n",
              "\n",
              "[50000 rows x 2 columns]"
            ]
          },
          "metadata": {
            "tags": []
          },
          "execution_count": 4
        }
      ]
    },
    {
      "cell_type": "code",
      "metadata": {
        "id": "QeqDyespBT8a"
      },
      "source": [
        "from nltk.stem import PorterStemmer\n",
        "from nltk.tokenize import word_tokenize"
      ],
      "execution_count": 5,
      "outputs": []
    },
    {
      "cell_type": "code",
      "metadata": {
        "id": "jocnRPH7pOnH"
      },
      "source": [
        "stop = stopwords.words('english')"
      ],
      "execution_count": 6,
      "outputs": []
    },
    {
      "cell_type": "code",
      "metadata": {
        "id": "eKHItdid7rQq"
      },
      "source": [
        "def stemming(text):\n",
        "    stemmer=PorterStemmer()\n",
        "    text= ' '.join([stemmer.stem(word) for word in text.split() if word not in stop])\n",
        "    return text"
      ],
      "execution_count": 7,
      "outputs": []
    },
    {
      "cell_type": "code",
      "metadata": {
        "id": "pyZ0bdbB_I53"
      },
      "source": [
        "X=imdb_data['review'].apply(stemming)"
      ],
      "execution_count": 8,
      "outputs": []
    },
    {
      "cell_type": "code",
      "metadata": {
        "colab": {
          "base_uri": "https://localhost:8080/"
        },
        "id": "ks52KbtpmHdY",
        "outputId": "76d5ce44-31ec-47c5-c5eb-e0b072dc3183"
      },
      "source": [
        "X"
      ],
      "execution_count": 9,
      "outputs": [
        {
          "output_type": "execute_result",
          "data": {
            "text/plain": [
              "0        one review mention watch oz episod hook right ...\n",
              "1        wonder littl product film techniqu unassum old...\n",
              "2        thought wonder way spend time hot summer weeke...\n",
              "3        basic famili littl boy jake think zombi closet...\n",
              "4        petter mattei love time money visual stun film...\n",
              "                               ...                        \n",
              "49995    thought movi right good job creativ origin fir...\n",
              "49996    bad plot bad dialogu bad act idiot direct anno...\n",
              "49997    cathol taught parochi elementari school nun ta...\n",
              "49998    go disagre previou comment side maltin one sec...\n",
              "49999    one expect star trek movi high art fan expect ...\n",
              "Name: review, Length: 50000, dtype: object"
            ]
          },
          "metadata": {
            "tags": []
          },
          "execution_count": 9
        }
      ]
    },
    {
      "cell_type": "code",
      "metadata": {
        "id": "Scy-5Xha7rVp"
      },
      "source": [
        "bow=CountVectorizer()\n",
        "tfidf = TfidfVectorizer()"
      ],
      "execution_count": 10,
      "outputs": []
    },
    {
      "cell_type": "code",
      "metadata": {
        "id": "KJwR5M0QLLNr"
      },
      "source": [
        "X_bow=bow.fit_transform(X)"
      ],
      "execution_count": 11,
      "outputs": []
    },
    {
      "cell_type": "code",
      "metadata": {
        "id": "OhSt6vtLJuau"
      },
      "source": [
        "X_tfidf=tfidf.fit_transform(X)"
      ],
      "execution_count": 12,
      "outputs": []
    },
    {
      "cell_type": "code",
      "metadata": {
        "colab": {
          "base_uri": "https://localhost:8080/"
        },
        "id": "ujN3zEg27rX5",
        "outputId": "3096d531-8d70-42e4-dbd0-091e19f3761a"
      },
      "source": [
        "y=imdb_data['sentiment']\n",
        "print(X_tfidf.shape)\n",
        "print(X_bow.shape)\n",
        "print(y.shape)"
      ],
      "execution_count": 13,
      "outputs": [
        {
          "output_type": "stream",
          "text": [
            "(50000, 70942)\n",
            "(50000, 70942)\n",
            "(50000,)\n"
          ],
          "name": "stdout"
        }
      ]
    },
    {
      "cell_type": "code",
      "metadata": {
        "id": "LhdBOdPFrdKP"
      },
      "source": [
        "X_train_tfidf, X_test_tfidf, y_train_tfidf, y_test_tfidf = train_test_split(X_tfidf, y, random_state=225, test_size=0.2)\n",
        "X_train_bow, X_test_bow, y_train_bow, y_test_bow=train_test_split(X_bow, y, random_state=225, test_size=0.2 )"
      ],
      "execution_count": 14,
      "outputs": []
    },
    {
      "cell_type": "code",
      "metadata": {
        "colab": {
          "base_uri": "https://localhost:8080/"
        },
        "id": "CrIf1bT5rdWI",
        "outputId": "2067bc2f-63d6-4779-b2d2-db1aa9e246ec"
      },
      "source": [
        "print(X_train_tfidf.shape)\n",
        "print(X_test_tfidf.shape)\n",
        "print(X_train_bow.shape)\n",
        "print(X_test_bow.shape)"
      ],
      "execution_count": 15,
      "outputs": [
        {
          "output_type": "stream",
          "text": [
            "(40000, 70942)\n",
            "(10000, 70942)\n",
            "(40000, 70942)\n",
            "(10000, 70942)\n"
          ],
          "name": "stdout"
        }
      ]
    },
    {
      "cell_type": "code",
      "metadata": {
        "id": "yO0SA2qrSuPM"
      },
      "source": [
        "from sklearn.linear_model import LogisticRegression"
      ],
      "execution_count": 16,
      "outputs": []
    },
    {
      "cell_type": "code",
      "metadata": {
        "colab": {
          "base_uri": "https://localhost:8080/"
        },
        "id": "jLapybhEkwOx",
        "outputId": "7a1fa656-30ff-4907-cadb-0ae9ce17ebc2"
      },
      "source": [
        "lr=LogisticRegression()\n",
        "lr"
      ],
      "execution_count": 17,
      "outputs": [
        {
          "output_type": "execute_result",
          "data": {
            "text/plain": [
              "LogisticRegression(C=1.0, class_weight=None, dual=False, fit_intercept=True,\n",
              "                   intercept_scaling=1, l1_ratio=None, max_iter=100,\n",
              "                   multi_class='auto', n_jobs=None, penalty='l2',\n",
              "                   random_state=None, solver='lbfgs', tol=0.0001, verbose=0,\n",
              "                   warm_start=False)"
            ]
          },
          "metadata": {
            "tags": []
          },
          "execution_count": 17
        }
      ]
    },
    {
      "cell_type": "code",
      "metadata": {
        "id": "qmZQxr_Hrddy"
      },
      "source": [
        "model_lr_tfidf = lr.fit(X_train_tfidf, y_train_tfidf)\n",
        "model_lr_bow = lr.fit(X_train_bow, y_train_bow) "
      ],
      "execution_count": 18,
      "outputs": []
    },
    {
      "cell_type": "code",
      "metadata": {
        "id": "Rd-0UOTxrdhJ"
      },
      "source": [
        "lr_predict_tfidf= model_lr_tfidf.predict(X_test_tfidf)\n",
        "lr_predict_bow = model_lr_bow.predict(X_test_bow)"
      ],
      "execution_count": 19,
      "outputs": []
    },
    {
      "cell_type": "code",
      "metadata": {
        "colab": {
          "base_uri": "https://localhost:8080/"
        },
        "id": "SoQ_-NlRrdi6",
        "outputId": "09665829-53a5-47bc-d45a-c449fec67593"
      },
      "source": [
        "print(accuracy_score(y_test_tfidf, lr_predict_tfidf))\n",
        "print(accuracy_score(y_test_bow, lr_predict_bow))"
      ],
      "execution_count": 20,
      "outputs": [
        {
          "output_type": "stream",
          "text": [
            "0.8633\n",
            "0.8811\n"
          ],
          "name": "stdout"
        }
      ]
    },
    {
      "cell_type": "code",
      "metadata": {
        "colab": {
          "base_uri": "https://localhost:8080/"
        },
        "id": "8mjACtvxihV9",
        "outputId": "72de821a-1de4-4ad0-a030-4040127e607c"
      },
      "source": [
        "print(round(f1_score(y_test_tfidf, lr_predict_tfidf),4))\n",
        "print(round(f1_score(y_test_bow, lr_predict_bow),4))"
      ],
      "execution_count": 21,
      "outputs": [
        {
          "output_type": "stream",
          "text": [
            "0.8666\n",
            "0.8804\n"
          ],
          "name": "stdout"
        }
      ]
    },
    {
      "cell_type": "code",
      "metadata": {
        "id": "qu6oZTklBpds"
      },
      "source": [
        "def confusion_matrix_plot(y_test,lr_predict):\n",
        "    con_matrix=confusion_matrix(y_test,lr_predict)\n",
        "    ax= plt.subplot()\n",
        "    sns.heatmap(con_matrix, annot=True, fmt='g', ax=ax);  \n",
        "    ax.set_title('Confusion Matrix'); \n",
        "    ax.set_xlabel('Predicted labels');\n",
        "    ax.set_ylabel('True labels'); \n",
        "    ax.xaxis.set_ticklabels(['positive', 'negative']); \n",
        "    ax.yaxis.set_ticklabels(['positive', 'negative'])"
      ],
      "execution_count": 22,
      "outputs": []
    },
    {
      "cell_type": "code",
      "metadata": {
        "colab": {
          "base_uri": "https://localhost:8080/",
          "height": 295
        },
        "id": "3QhXnX3aTSbB",
        "outputId": "eda60c03-eb21-4492-d09e-f87ede9277b9"
      },
      "source": [
        "confusion_matrix_plot(y_test_tfidf,lr_predict_tfidf)"
      ],
      "execution_count": 23,
      "outputs": [
        {
          "output_type": "display_data",
          "data": {
            "image/png": "[encoded data removed]",
            "text/plain": [
              "<Figure size 432x288 with 2 Axes>"
            ]
          },
          "metadata": {
            "tags": [],
            "needs_background": "light"
          }
        }
      ]
    },
    {
      "cell_type": "code",
      "metadata": {
        "colab": {
          "base_uri": "https://localhost:8080/",
          "height": 295
        },
        "id": "bcpFlHVLWUqM",
        "outputId": "ad6d826c-8c6b-47fe-fd52-af4de0695f8b"
      },
      "source": [
        "confusion_matrix_plot(y_test_bow,lr_predict_bow)"
      ],
      "execution_count": 24,
      "outputs": [
        {
          "output_type": "display_data",
          "data": {
            "image/png": "[encoded data removed]",
            "text/plain": [
              "<Figure size 432x288 with 2 Axes>"
            ]
          },
          "metadata": {
            "tags": [],
            "needs_background": "light"
          }
        }
      ]
    },
    {
      "cell_type": "code",
      "metadata": {
        "id": "H7KiyOtlSzQ5"
      },
      "source": [
        "from sklearn.linear_model import SGDClassifier"
      ],
      "execution_count": 25,
      "outputs": []
    },
    {
      "cell_type": "code",
      "metadata": {
        "colab": {
          "base_uri": "https://localhost:8080/"
        },
        "id": "l6qndiEPldjh",
        "outputId": "9db097ad-bf5e-4628-a126-405bd449426c"
      },
      "source": [
        "svm=SGDClassifier(loss='hinge',max_iter=300,random_state=42)\n",
        "svm"
      ],
      "execution_count": 26,
      "outputs": [
        {
          "output_type": "execute_result",
          "data": {
            "text/plain": [
              "SGDClassifier(alpha=0.0001, average=False, class_weight=None,\n",
              "              early_stopping=False, epsilon=0.1, eta0=0.0, fit_intercept=True,\n",
              "              l1_ratio=0.15, learning_rate='optimal', loss='hinge',\n",
              "              max_iter=300, n_iter_no_change=5, n_jobs=None, penalty='l2',\n",
              "              power_t=0.5, random_state=42, shuffle=True, tol=0.001,\n",
              "              validation_fraction=0.1, verbose=0, warm_start=False)"
            ]
          },
          "metadata": {
            "tags": []
          },
          "execution_count": 26
        }
      ]
    },
    {
      "cell_type": "code",
      "metadata": {
        "id": "jDp_RlY9rdsR"
      },
      "source": [
        "model_svm_tfidf=svm.fit(X_train_tfidf, y_train_tfidf)\n",
        "model_svm_bow=svm.fit(X_train_bow, y_train_bow)"
      ],
      "execution_count": 27,
      "outputs": []
    },
    {
      "cell_type": "code",
      "metadata": {
        "id": "v7SyddgTrduH"
      },
      "source": [
        "svm_predict_tfidf=model_svm_tfidf.predict(X_test_tfidf)\n",
        "svm_predict_bow=model_svm_bow.predict(X_test_bow)"
      ],
      "execution_count": 28,
      "outputs": []
    },
    {
      "cell_type": "code",
      "metadata": {
        "colab": {
          "base_uri": "https://localhost:8080/"
        },
        "id": "O0YTZ_l2rdwy",
        "outputId": "7457fa63-9ce4-4a75-9fdc-0704d562a8de"
      },
      "source": [
        "print(accuracy_score(svm_predict_tfidf, y_test_tfidf))\n",
        "print(accuracy_score(svm_predict_bow, y_test_bow))"
      ],
      "execution_count": 29,
      "outputs": [
        {
          "output_type": "stream",
          "text": [
            "0.857\n",
            "0.8764\n"
          ],
          "name": "stdout"
        }
      ]
    },
    {
      "cell_type": "code",
      "metadata": {
        "colab": {
          "base_uri": "https://localhost:8080/"
        },
        "id": "tf5An6kqjScK",
        "outputId": "4b282001-997a-4e28-ffa5-e255689824c8"
      },
      "source": [
        "print(round(f1_score(svm_predict_tfidf, y_test_tfidf),4))\n",
        "print(round(f1_score(svm_predict_bow, y_test_bow),4))"
      ],
      "execution_count": 30,
      "outputs": [
        {
          "output_type": "stream",
          "text": [
            "0.8546\n",
            "0.8786\n"
          ],
          "name": "stdout"
        }
      ]
    },
    {
      "cell_type": "code",
      "metadata": {
        "colab": {
          "base_uri": "https://localhost:8080/",
          "height": 295
        },
        "id": "YHXcDxjR6I9g",
        "outputId": "7b7f1786-6748-4cd7-d63d-e0a60575d7da"
      },
      "source": [
        "confusion_matrix_plot(y_test_tfidf,svm_predict_tfidf)"
      ],
      "execution_count": 31,
      "outputs": [
        {
          "output_type": "display_data",
          "data": {
            "image/png": "[encoded data removed]",
            "text/plain": [
              "<Figure size 432x288 with 2 Axes>"
            ]
          },
          "metadata": {
            "tags": [],
            "needs_background": "light"
          }
        }
      ]
    },
    {
      "cell_type": "code",
      "metadata": {
        "colab": {
          "base_uri": "https://localhost:8080/",
          "height": 295
        },
        "id": "7fe_UBfl6JAk",
        "outputId": "f869652d-da41-4a0a-8762-5dcfe9cdb9c7"
      },
      "source": [
        "confusion_matrix_plot(y_test_bow,svm_predict_bow)"
      ],
      "execution_count": 32,
      "outputs": [
        {
          "output_type": "display_data",
          "data": {
            "image/png": "[encoded data removed]",
            "text/plain": [
              "<Figure size 432x288 with 2 Axes>"
            ]
          },
          "metadata": {
            "tags": [],
            "needs_background": "light"
          }
        }
      ]
    },
    {
      "cell_type": "code",
      "metadata": {
        "id": "2m90SwQS6JNH"
      },
      "source": [
        "from sklearn.naive_bayes import MultinomialNB"
      ],
      "execution_count": 33,
      "outputs": []
    },
    {
      "cell_type": "code",
      "metadata": {
        "colab": {
          "base_uri": "https://localhost:8080/"
        },
        "id": "hL2pZHe6lmwj",
        "outputId": "fb4d782e-4c31-412d-8484-c62896350e80"
      },
      "source": [
        "mnb=MultinomialNB()\n",
        "mnb"
      ],
      "execution_count": 34,
      "outputs": [
        {
          "output_type": "execute_result",
          "data": {
            "text/plain": [
              "MultinomialNB(alpha=1.0, class_prior=None, fit_prior=True)"
            ]
          },
          "metadata": {
            "tags": []
          },
          "execution_count": 34
        }
      ]
    },
    {
      "cell_type": "code",
      "metadata": {
        "id": "JSnZsviS6JOk"
      },
      "source": [
        "model_mnb_tfidf=mnb.fit(X_train_tfidf, y_train_tfidf)\n",
        "model_mnb_bow=mnb.fit(X_train_bow, y_train_bow)"
      ],
      "execution_count": 35,
      "outputs": []
    },
    {
      "cell_type": "code",
      "metadata": {
        "id": "OrlWHUMQ6JTJ"
      },
      "source": [
        "mnb_predict_tfidf=model_mnb_tfidf.predict(X_test_tfidf)\n",
        "mnb_predict_bow=model_mnb_bow.predict(X_test_bow)\n"
      ],
      "execution_count": 36,
      "outputs": []
    },
    {
      "cell_type": "code",
      "metadata": {
        "colab": {
          "base_uri": "https://localhost:8080/"
        },
        "id": "0gbXbc_68DS-",
        "outputId": "6ff02518-e535-45d8-9b1a-9aedddab2e51"
      },
      "source": [
        "print(accuracy_score(mnb_predict_tfidf,y_test_tfidf))\n",
        "print(accuracy_score(mnb_predict_bow, y_test_bow))"
      ],
      "execution_count": 37,
      "outputs": [
        {
          "output_type": "stream",
          "text": [
            "0.8451\n",
            "0.8524\n"
          ],
          "name": "stdout"
        }
      ]
    },
    {
      "cell_type": "code",
      "metadata": {
        "colab": {
          "base_uri": "https://localhost:8080/"
        },
        "id": "heaSAqxWji3s",
        "outputId": "becc7193-2916-41cc-d45f-64d381893a8a"
      },
      "source": [
        "print(round(f1_score(mnb_predict_tfidf,y_test_tfidf),4))\n",
        "print(round(f1_score(mnb_predict_bow, y_test_bow),4))"
      ],
      "execution_count": 38,
      "outputs": [
        {
          "output_type": "stream",
          "text": [
            "0.8466\n",
            "0.8492\n"
          ],
          "name": "stdout"
        }
      ]
    },
    {
      "cell_type": "code",
      "metadata": {
        "colab": {
          "base_uri": "https://localhost:8080/",
          "height": 295
        },
        "id": "rcypoThw8Dap",
        "outputId": "336fd6a0-7ff0-4ce3-faa6-e62b0a58e6d8"
      },
      "source": [
        "confusion_matrix_plot(y_test_tfidf,mnb_predict_tfidf)"
      ],
      "execution_count": 39,
      "outputs": [
        {
          "output_type": "display_data",
          "data": {
            "image/png": "[encoded data removed]",
            "text/plain": [
              "<Figure size 432x288 with 2 Axes>"
            ]
          },
          "metadata": {
            "tags": [],
            "needs_background": "light"
          }
        }
      ]
    },
    {
      "cell_type": "code",
      "metadata": {
        "colab": {
          "base_uri": "https://localhost:8080/",
          "height": 295
        },
        "id": "L1GWQWGA8Dg4",
        "outputId": "f68293a1-b213-42ce-aa4f-579a702fde88"
      },
      "source": [
        "confusion_matrix_plot(y_test_bow,mnb_predict_bow)"
      ],
      "execution_count": 40,
      "outputs": [
        {
          "output_type": "display_data",
          "data": {
            "image/png": "[encoded data removed]",
            "text/plain": [
              "<Figure size 432x288 with 2 Axes>"
            ]
          },
          "metadata": {
            "tags": [],
            "needs_background": "light"
          }
        }
      ]
    },
    {
      "cell_type": "code",
      "metadata": {
        "id": "aiHGNkiWo0bX"
      },
      "source": [
        ""
      ],
      "execution_count": 40,
      "outputs": []
    }
  ]
}